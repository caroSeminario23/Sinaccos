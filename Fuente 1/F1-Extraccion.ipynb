{
 "cells": [
  {
   "cell_type": "code",
   "execution_count": null,
   "metadata": {},
   "outputs": [],
   "source": [
    "import time\n",
    "import pandas as pd\n",
    "from selenium import webdriver\n",
    "from selenium.webdriver.edge.service import Service\n",
    "from selenium.webdriver.common.by import By\n",
    "from selenium.webdriver.support.ui import WebDriverWait\n",
    "from selenium.webdriver.support import expected_conditions as EC"
   ]
  },
  {
   "cell_type": "code",
   "execution_count": null,
   "metadata": {},
   "outputs": [],
   "source": [
    "# Ruta al WebDriver de Microsoft Edge\n",
    "webdriver_path = '/Users/carolinasv/Downloads/edgedriver_mac64'"
   ]
  },
  {
   "cell_type": "code",
   "execution_count": null,
   "metadata": {},
   "outputs": [],
   "source": [
    "# Inicializa el navegador Microsoft Edge\n",
    "service = Service(webdriver_path)\n",
    "options = webdriver.EdgeOptions()\n",
    "driver = webdriver.Edge(service=service, options=options)"
   ]
  },
  {
   "cell_type": "code",
   "execution_count": null,
   "metadata": {},
   "outputs": [],
   "source": [
    "# URL de la página web a automatizar\n",
    "url = 'https://prod4.seace.gob.pe/contratos/publico/#/buscar'"
   ]
  },
  {
   "cell_type": "code",
   "execution_count": null,
   "metadata": {},
   "outputs": [],
   "source": [
    "# Definición de palabras clave\n",
    "entidad = \"GOBIERNO REGIONAL DE PIURA SEDE CENTRAL\"\n",
    "objeto = \"BIENES\"\n",
    "anio_inicio = 2019\n",
    "anio_fin = 2021"
   ]
  },
  {
   "cell_type": "code",
   "execution_count": null,
   "metadata": {},
   "outputs": [],
   "source": [
    "# Abre la página web\n",
    "from tkinter.tix import Select\n",
    "\n",
    "driver.get(url)\n",
    "\n",
    "# Espera hasta que el elemento esté presente en el DOM\n",
    "wait = WebDriverWait(driver, 10)\n",
    "\n",
    "# Aquí puedes agregar la lógica para interactuar con la página, por ejemplo:\n",
    "# - Ingresar algún criterio de búsqueda\n",
    "# - Hacer clic en botones para mostrar resultados\n",
    "# - Etc.\n",
    "buscar_Entidad = wait.until(EC.presence_of_element_located((By.XPATH, '/html/body/app-root/app-buscar/div/div/mat-sidenav-container/mat-sidenav-content/mat-card/div[2]/div[3]/mat-form-field/div/div[1]/div[4]/input')))\n",
    "\n",
    "# Ingresar el criterio de búsqueda\n",
    "criterio = entidad\n",
    "buscar_Entidad.send_keys(criterio)\n",
    "\n",
    "# Espera hasta que el desplegable esté presente en el DOM\n",
    "desplegable_anio = wait.until(EC.presence_of_element_located((By.XPATH, '/html/body/app-root/app-buscar/div/div/mat-sidenav-container/mat-sidenav-content/mat-card/div[2]/div[3]/div[1]/mat-select/div/div[1]')))\n",
    "\n",
    "# Interactuar con el desplegable\n",
    "dropdown = Select(desplegable_anio)\n",
    "dropdown.select_by_value(str(anio_inicio))  # Puedes usar select_by_value, select_by_visible_text o select_by_index\n",
    "\n",
    "# Espera hasta que el desplegable esté presente en el DOM\n",
    "desplegable_objeto = wait.until(EC.presence_of_element_located((By.XPATH, '/html/body/app-root/app-buscar/div/div/mat-sidenav-container/mat-sidenav-content/mat-card/div[2]/div[3]/div[1]/mat-select/div/div[1]')))\n",
    "\n",
    "# Interactuar con el desplegable\n",
    "dropdown = Select(desplegable_objeto)\n",
    "dropdown.select_by_value(objeto)  # Puedes usar select_by_value, select_by_visible_text o select_by_index\n",
    "\n",
    "# Espera hasta que el botón de búsqueda esté presente en el DOM\n",
    "buscar_boton = wait.until(EC.element_to_be_clickable((By.XPATH, '/html/body/app-root/app-buscar/div/div/mat-sidenav-container/mat-sidenav-content/mat-card/div[2]/div[3]/div[4]/button[2]/span')))\n",
    "\n",
    "# Hacer clic en el botón de búsqueda\n",
    "buscar_boton.click()\n",
    "\n",
    "# Espera a que se carguen los resultados (esto puede necesitar ajuste dependiendo de la página)\n",
    "time.sleep(10)  # Ajusta el tiempo según sea necesario\n",
    "\n",
    "# Extrae los datos de los resultados\n",
    "# Aquí debes ajustar los selectores según la estructura de la página\n",
    "rows = driver.find_elements(By.CSS_SELECTOR, 'selector_de_filas')\n",
    "data = []\n",
    "\n",
    "for row in rows:\n",
    "    # Extrae los datos de cada campo en la fila\n",
    "    campo1 = row.find_element(By.CSS_SELECTOR, 'selector_del_campo1').text\n",
    "    campo2 = row.find_element(By.CSS_SELECTOR, 'selector_del_campo2').text\n",
    "    campo3 = row.find_element(By.CSS_SELECTOR, 'selector_del_campo3').text\n",
    "    # Agrega más campos según sea necesario\n",
    "    data.append([campo1, campo2, campo3])"
   ]
  },
  {
   "cell_type": "code",
   "execution_count": null,
   "metadata": {},
   "outputs": [],
   "source": [
    "# Guarda los datos en un archivo CSV\n",
    "df = pd.DataFrame(data, columns=['Campo1', 'Campo2', 'Campo3'])  # Cambia los nombres de las columnas según corresponda\n",
    "df.to_csv('datos_extraidos.csv', index=False, encoding='utf-8')"
   ]
  },
  {
   "cell_type": "code",
   "execution_count": null,
   "metadata": {},
   "outputs": [],
   "source": [
    "# Cierra el navegador\n",
    "driver.quit()"
   ]
  }
 ],
 "metadata": {
  "kernelspec": {
   "display_name": "Python 3",
   "language": "python",
   "name": "python3"
  },
  "language_info": {
   "name": "python",
   "version": "3.12.1"
  }
 },
 "nbformat": 4,
 "nbformat_minor": 2
}
